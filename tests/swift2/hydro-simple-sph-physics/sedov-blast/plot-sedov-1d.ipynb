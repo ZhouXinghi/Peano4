{
 "cells": [
  {
   "cell_type": "markdown",
   "metadata": {},
   "source": [
    "# 1D Sedov Blast\n",
    "\n",
    "# Post-processing: plot and analyze the results"
   ]
  },
  {
   "cell_type": "code",
   "execution_count": 3,
   "metadata": {},
   "outputs": [],
   "source": [
    "import meshio\n",
    "import numpy as np\n",
    "import glob, os\n",
    "import matplotlib.pyplot as plt\n",
    "from matplotlib import gridspec\n",
    "from matplotlib.colors import LogNorm\n",
    "from matplotlib import mathtext\n",
    "import math\n",
    "from scipy import stats \n"
   ]
  },
  {
   "cell_type": "code",
   "execution_count": 4,
   "metadata": {},
   "outputs": [],
   "source": [
    "# Plot parameters\n",
    "params = {\n",
    "    \"axes.labelsize\": 11,\n",
    "    \"axes.titlesize\": 11,\n",
    "    \"font.size\": 12,\n",
    "    \"legend.fontsize\": 12,\n",
    "    \"xtick.labelsize\": 11,\n",
    "    \"ytick.labelsize\": 11,\n",
    "    \"text.usetex\": False,\n",
    "    \"figure.figsize\": (9, 6.45),\n",
    "    \"figure.subplot.left\": 0.045,\n",
    "    \"figure.subplot.right\": 0.99,\n",
    "    \"figure.subplot.bottom\": 0.05,\n",
    "    \"figure.subplot.top\": 0.99,\n",
    "    \"figure.subplot.wspace\": 0.15,\n",
    "    \"figure.subplot.hspace\": 0.12,\n",
    "    \"lines.markersize\": 6,\n",
    "    \"lines.linewidth\": 3.0,\n",
    "}\n",
    "plt.rcParams.update(params)\n",
    "plt.rc('font', family='serif')\n",
    "#plt.rc('text', usetex=False)"
   ]
  },
  {
   "cell_type": "markdown",
   "metadata": {},
   "source": [
    "## Analytical solution (from Swift)\n",
    "\n",
    "Computes the analytical solution of the 2D Sedov blast wave. Taken from `swiftsim/examples/HydroTests/SedovBlast_1D`"
   ]
  },
  {
   "cell_type": "code",
   "execution_count": 5,
   "metadata": {},
   "outputs": [],
   "source": [
    "from scipy.special import gamma as Gamma\n",
    "\n",
    "def calc_a(g, nu=3):\n",
    "    \"\"\" \n",
    "    exponents of the polynomials of the sedov solution\n",
    "    g - the polytropic gamma\n",
    "    nu - the dimension\n",
    "    \"\"\"\n",
    "    a = [0] * 8\n",
    "\n",
    "    a[0] = 2.0 / (nu + 2)\n",
    "    a[2] = (1 - g) / (2 * (g - 1) + nu)\n",
    "    a[3] = nu / (2 * (g - 1) + nu)\n",
    "    a[5] = 2 / (g - 2)\n",
    "    a[6] = g / (2 * (g - 1) + nu)\n",
    "\n",
    "    a[1] = (((nu + 2) * g) / (2.0 + nu * (g - 1.0))) * (\n",
    "        (2.0 * nu * (2.0 - g)) / (g * (nu + 2.0) ** 2) - a[2]\n",
    "    )\n",
    "    a[4] = a[1] * (nu + 2) / (2 - g)\n",
    "    a[7] = (2 + nu * (g - 1)) * a[1] / (nu * (2 - g))\n",
    "    return a\n",
    "\n",
    "def calc_beta(v, g, nu=3):\n",
    "    \"\"\" \n",
    "    beta values for the sedov solution (coefficients of the polynomials of the similarity variables) \n",
    "    v - the similarity variable\n",
    "    g - the polytropic gamma\n",
    "    nu- the dimension\n",
    "    \"\"\"\n",
    "\n",
    "    beta = (\n",
    "        (nu + 2)\n",
    "        * (g + 1)\n",
    "        * np.array(\n",
    "            (\n",
    "                0.25,\n",
    "                (g / (g - 1)) * 0.5,\n",
    "                -(2 + nu * (g - 1))\n",
    "                / 2.0\n",
    "                / ((nu + 2) * (g + 1) - 2 * (2 + nu * (g - 1))),\n",
    "                -0.5 / (g - 1),\n",
    "            ),\n",
    "        )\n",
    "    )\n",
    "\n",
    "    beta = np.outer(beta, v)\n",
    "\n",
    "    beta += (g + 1) * np.array(\n",
    "        (\n",
    "            0.0,\n",
    "            -1.0 / (g - 1),\n",
    "            (nu + 2) / ((nu + 2) * (g + 1) - 2.0 * (2 + nu * (g - 1))),\n",
    "            1.0 / (g - 1),\n",
    "        ),\n",
    "    ).reshape((4, 1))\n",
    "\n",
    "    return beta\n",
    "\n",
    "\n",
    "def sedov(t, E0, rho0, g, n=10000, nu=3):\n",
    "    \"\"\" \n",
    "    solve the sedov problem\n",
    "    t - the time\n",
    "    E0 - the initial energy\n",
    "    rho0 - the initial density\n",
    "    n - number of points (10000)\n",
    "    nu - the dimension\n",
    "    g - the polytropic gas gamma\n",
    "    \"\"\"\n",
    "    # the similarity variable\n",
    "    v_min = 2.0 / ((nu + 2) * g)\n",
    "    v_max = 4.0 / ((nu + 2) * (g + 1))\n",
    "\n",
    "    v = v_min + np.arange(n) * (v_max - v_min) / (n - 1.0)\n",
    "\n",
    "    a = calc_a(g, nu)\n",
    "    beta = calc_beta(v, g=g, nu=nu)\n",
    "    lbeta = np.log(beta)\n",
    "\n",
    "    r = np.exp(-a[0] * lbeta[0] - a[2] * lbeta[1] - a[1] * lbeta[2])\n",
    "    rho = ((g + 1.0) / (g - 1.0)) * np.exp(\n",
    "        a[3] * lbeta[1] + a[5] * lbeta[3] + a[4] * lbeta[2]\n",
    "    )\n",
    "    p = np.exp(nu * a[0] * lbeta[0] + (a[5] + 1) * lbeta[3] + (a[4] - 2 * a[1]) * lbeta[2])\n",
    "    u = beta[0] * r * 4.0 / ((g + 1) * (nu + 2))\n",
    "    p *= 8.0 / ((g + 1) * (nu + 2) * (nu + 2))\n",
    "\n",
    "    # we have to take extra care at v=v_min, since this can be a special point.\n",
    "    # It is not a singularity, however, the gradients of our variables (wrt v) are.\n",
    "    # r -> 0, u -> 0, rho -> 0, p-> constant\n",
    "\n",
    "    u[0] = 0.0\n",
    "    rho[0] = 0.0\n",
    "    r[0] = 0.0\n",
    "    p[0] = p[1]\n",
    "\n",
    "    # volume of an n-sphere\n",
    "    vol = (np.pi ** (nu / 2.0) / Gamma(nu / 2.0 + 1)) * np.power(r, nu)\n",
    "\n",
    "    # note we choose to evaluate the integral in this way because the\n",
    "    # volumes of the first few elements (i.e near v=vmin) are shrinking\n",
    "    # very slowly, so we dramatically improve the error convergence by\n",
    "    # finding the volumes exactly. This is most important for the\n",
    "    # pressure integral, as this is on the order of the volume.\n",
    "\n",
    "    # (dimensionless) energy of the model solution\n",
    "    de = rho * u * u * 0.5 + p / (g - 1)\n",
    "    # integrate (trapezium rule)\n",
    "    q = np.inner(de[1:] + de[:-1], np.diff(vol)) * 0.5\n",
    "\n",
    "    # the factor to convert to this particular problem\n",
    "    fac = (q * (t ** nu) * rho0 / E0) ** (-1.0 / (nu + 2))\n",
    "\n",
    "    # shock speed\n",
    "    shock_speed = fac * (2.0 / (nu + 2))\n",
    "    rho_s = ((g + 1) / (g - 1)) * rho0\n",
    "    r_s = shock_speed * t * (nu + 2) / 2.0\n",
    "    p_s = (2.0 * rho0 * shock_speed * shock_speed) / (g + 1)\n",
    "    u_s = (2.0 * shock_speed) / (g + 1)\n",
    "\n",
    "    r *= fac * t\n",
    "    u *= fac\n",
    "    p *= fac * fac * rho0\n",
    "    rho *= rho0\n",
    "    return r, p, rho, u, r_s, p_s, rho_s, u_s, shock_speed"
   ]
  },
  {
   "cell_type": "markdown",
   "metadata": {},
   "source": [
    "## Radial profiles"
   ]
  },
  {
   "cell_type": "code",
   "execution_count": 14,
   "metadata": {},
   "outputs": [
    {
     "name": "stdout",
     "output_type": "stream",
     "text": [
      "/home/cristianbarrahinojosa/Codes/Peano/benchmarks/swift2/hydro/Sedov_1D\n",
      "Reading snapshot: output/snapshots/particles-20.vtu\n",
      "time of simulation =  0.004\n",
      "********************************************\n",
      "<bound method Mesh.point_data_to_sets of <meshio mesh object>\n",
      "  Number of points: 100\n",
      "  Number of cells:\n",
      "    vertex: 100\n",
      "  Point data: x, cut-off-radius, association, partid, v, a, mass, density, pressure, u, smoothingLength, f, Ncount, isBoundaryParticle>\n",
      "********************************************\n",
      "Measure energy conservation:\n",
      "Initial E= 1.0000014 Total E=  1.0037782 Kinetic E= 0.09627214 Internal E= 0.9075061\n",
      "Relative Energy difference =  0.003776813935483022\n",
      "********************************************\n",
      "** 50 ** particles found with this filter.\n"
     ]
    },
    {
     "name": "stderr",
     "output_type": "stream",
     "text": [
      "/tmp/ipykernel_53429/2792293985.py:42: RuntimeWarning: invalid value encountered in true_divide\n",
      "  v_r = (x*vel_x + y*vel_y)/r\n"
     ]
    }
   ],
   "source": [
    "from tkinter import Tcl\n",
    "\n",
    "!pwd\n",
    "# Import snapshots\n",
    "snapshot_number = 20\n",
    "snapshot_dir = 'output/snapshots/'\n",
    "#snapshot_dir = 'Npart_63_h_constant/'\n",
    "#snapshot_dir = 'Npart_63_blast_energy_0_2/'\n",
    "#snapshot_dir = 'Npart_63_non-smoothing/'\n",
    "files = glob.glob(snapshot_dir + \"particles*.vtu\")\n",
    "# Sort the snapshots according to Natural sort\n",
    "files = Tcl().call('lsort', '-dict', files)\n",
    "\n",
    "# Parameters\n",
    "time_step_sim = 1e-5\n",
    "snapshot_rate = 20\n",
    "time = snapshot_number*snapshot_rate*time_step_sim\n",
    "\n",
    "neighbours = 4.28\n",
    "eta = 1.235\n",
    "kernel = 'Cubic Spline (M4)'\n",
    "scheme = 'Minimal SPH'\n",
    "\n",
    "\n",
    "snapshot = files[snapshot_number]\n",
    "print('Reading snapshot: ' + snapshot )\n",
    "print(\"time of simulation = \", time)\n",
    "print(\"********************************************\")\n",
    "\n",
    "mesh = meshio.read( snapshot )\n",
    "print(mesh.point_data_to_sets)\n",
    "print(\"********************************************\")\n",
    "\n",
    "# Extract Fields\n",
    "pos = mesh.point_data[\"x\"]\n",
    "x = pos[:,0] - 0.5\n",
    "y = pos[:,1] - 0.5\n",
    "vel = mesh.point_data[\"v\"]\n",
    "vel_x   = vel[:,0] \n",
    "vel_y   = vel[:,1] \n",
    "r = np.sqrt(x**2 + y**2)\n",
    "v_r = (x*vel_x + y*vel_y)/r\n",
    "density = mesh.point_data[\"density\"][:,0]\n",
    "pressure= mesh.point_data[\"pressure\"][:,0]\n",
    "mass    = mesh.point_data[\"mass\"][:,0]\n",
    "energy  = mesh.point_data[\"u\"][:,0]\n",
    "\n",
    "print(\"Measure energy conservation:\")\n",
    "#E_ini = 5.0000014\n",
    "E_ini = 1.0000014\n",
    "#E_ini = 0.075\n",
    "E_kin = mass[0] * np.sum( 0.5 * (vel_x**2 + vel_y**2) )\n",
    "E_int = mass[0] * np.sum(energy)\n",
    "E_tot = E_kin + E_int\n",
    "E_dif = (E_tot - E_ini)/E_ini\n",
    "print(\"Initial E=\", E_ini, \"Total E= \", E_tot, \"Kinetic E=\", E_kin, \"Internal E=\", E_int)\n",
    "print(\"Relative Energy difference = \", E_dif )\n",
    "print(\"********************************************\")\n",
    "\n",
    "# Filter by position\n",
    "#x_mask = np.less_equal( x, 0 )\n",
    "x_mask = np.greater_equal( x, 0 )\n",
    "y_min = -1e-2\n",
    "y_max = 1e-2\n",
    "y_mask = np.less_equal(y, y_max)\n",
    "y_mask = y_mask & np.greater_equal(y, y_min)\n",
    "pos_mask = x_mask & y_mask\n",
    "\n",
    "x_line =  x[pos_mask]\n",
    "y_line = y[pos_mask]\n",
    "density_x = density[pos_mask]\n",
    "pressure_x= pressure[pos_mask]\n",
    "energy_x  = energy[pos_mask]\n",
    "vel_x_line =  vel_x[pos_mask]\n",
    "\n",
    "#print(x.shape, density.shape, x_line.shape, density_x.shape)\n",
    "print('** ' + str(len(x_line)) + ' ** particles found with this filter.')"
   ]
  },
  {
   "cell_type": "code",
   "execution_count": 15,
   "metadata": {},
   "outputs": [
    {
     "name": "stderr",
     "output_type": "stream",
     "text": [
      "/tmp/ipykernel_53429/281826234.py:79: RuntimeWarning: divide by zero encountered in log\n",
      "  lbeta = np.log(beta)\n",
      "/tmp/ipykernel_53429/2265237157.py:18: RuntimeWarning: divide by zero encountered in true_divide\n",
      "  u_s = P_s / (rho_s * (gas_gamma - 1.0))  # internal energy\n",
      "/tmp/ipykernel_53429/2265237157.py:19: RuntimeWarning: divide by zero encountered in true_divide\n",
      "  s_s = P_s / rho_s ** gas_gamma           # entropic function\n"
     ]
    }
   ],
   "source": [
    "# Parameters\n",
    "rho_0 = 4.0                     # Background Density\n",
    "P_0 = 6.6e-7                    # Background Pressure\n",
    "u_0 = 1.0\n",
    "E_0 = E_ini                     # Total Energy of the explosion\n",
    "gas_gamma = 5.0/3.0             # Gas polytropic index\n",
    "\n",
    "# The main properties of the solution\n",
    "r_s, P_s, rho_s, v_s, r_shock, _, _, _, _ = sedov(time, E_0, rho_0, gas_gamma, 1000, 1)\n",
    "\n",
    "# Append points for after the shock\n",
    "r_s = np.insert(r_s, np.size(r_s), [r_shock, r_shock*3])\n",
    "rho_s = np.insert(rho_s, np.size(rho_s), [rho_0, rho_0])\n",
    "P_s = np.insert(P_s, np.size(P_s), [P_0, P_0])\n",
    "v_s = np.insert(v_s, np.size(v_s), [0, 0])\n",
    "\n",
    "# Additional arrays\n",
    "u_s = P_s / (rho_s * (gas_gamma - 1.0))  # internal energy\n",
    "s_s = P_s / rho_s ** gas_gamma           # entropic function"
   ]
  },
  {
   "cell_type": "code",
   "execution_count": 16,
   "metadata": {},
   "outputs": [
    {
     "data": {
      "image/png": "[encoded data removed]",
      "text/plain": [
       "<Figure size 1008x576 with 5 Axes>"
      ]
     },
     "metadata": {
      "needs_background": "light"
     },
     "output_type": "display_data"
    }
   ],
   "source": [
    "#### Plot radial profiles\n",
    "fig = plt.figure(figsize=(14, 8)) \n",
    "\n",
    "plt.subplot(231)\n",
    "plt.plot(r_s,rho_s, \"--\", color=\"k\", alpha=0.8, lw=1.2)\n",
    "plt.scatter(x_line, density_x, s=10, c='r', zorder=1)\n",
    "plt.xlabel(r'$x$')\n",
    "plt.ylabel(r'$\\rho$')\n",
    "plt.margins(0.05, 0.1)\n",
    "plt.tick_params(direction='in', top=True, right=True)\n",
    "plt.axhline(rho_0, c='gray', ls=':', lw=1.2,zorder=-49 )\n",
    "#plt.axhline( (5./3.+1.)/(5./3.-1.)*rho_0, c='r', ls=':', lw=1.2,zorder=-49 )\n",
    "#ax0.text(0.05, 0.85, r\"$t=$\" + str(time)[:5], fontsize=12,  transform=ax0.transAxes)\n",
    "#ax0.text(0.05, 0.92, r\"$N_{part}=$\" + str(len(x_line)*2-1), fontsize=12,  transform=ax0.transAxes)\n",
    "#plt.xlim(0.1 * r_shock, 1.5 * r_shock)\n",
    "plt.ylim(-0.1, 1.1 * rho_s.max() )\n",
    "\n",
    "plt.subplot(232)\n",
    "plt.plot(r_s, P_s, \"--\", color=\"k\", alpha=0.8, lw=1.2)\n",
    "plt.scatter(x_line, pressure_x, s=10, c='r')\n",
    "plt.axhline(0, c='gray', ls=':', lw=1.2,zorder=-49 )\n",
    "plt.xlabel(r'$x$')\n",
    "plt.ylabel(r'$P$')\n",
    "plt.margins(0.05, 0.1)\n",
    "plt.tick_params(direction='in', top=True, right=True)\n",
    "#plt.xlim(0.1 * r_shock, 1.5 * r_shock)\n",
    "plt.ylim(-0.1, 1.1 * P_s.max() )\n",
    "\n",
    "plt.subplot(234)\n",
    "plt.plot(r_s, u_s, \"--\", color=\"k\", alpha=0.8, lw=1.2)\n",
    "plt.scatter(x_line, energy_x, s=10, c='r')\n",
    "plt.axhline(0, c='gray', ls=':', lw=1.2,zorder=-49 )\n",
    "plt.xlabel(r'$x$')\n",
    "plt.ylabel(r'$u$')\n",
    "plt.margins(0.05, 0.1)\n",
    "plt.tick_params(direction='in', top=True, right=True)\n",
    "#plt.xlim(0.1 * r_shock, 1.5 * r_shock)\n",
    "plt.ylim(-1, 1.1 * u_s[10:].max() )\n",
    "\n",
    "plt.subplot(235)\n",
    "plt.plot(r_s, v_s, \"--\", color=\"k\", alpha=0.8, lw=1.2)\n",
    "plt.scatter(x_line, vel_x_line, s=10, c='r')\n",
    "plt.axhline(0, c='gray', ls=':', lw=1.2,zorder=-49 )\n",
    "plt.xlabel(r'$x$')\n",
    "plt.ylabel(r'$v_x$')\n",
    "plt.margins(0.05, 0.1)\n",
    "plt.tick_params(direction='in', top=True, right=True)\n",
    "#plt.xlim(0.1 * r_shock, 1.5 * r_shock)\n",
    "plt.ylim(-0.1, 1.1 * v_s[10:].max() )\n",
    "\n",
    "\n",
    "# Information -------------------------------------\n",
    "\n",
    "plt.subplot(236, frameon=False)\n",
    "\n",
    "plt.text(\n",
    "    -0.45,\n",
    "    0.9,\n",
    "    \"Sedov blast with  $\\\\gamma=%.3f$ in 3D at $t=%.2f$\" % (gas_gamma, time),\n",
    "    fontsize=11,\n",
    ")\n",
    "plt.text(-0.45, 0.8, \"Background $\\\\rho_0=%.2f$\" % (rho_0), fontsize=11)\n",
    "plt.text(-0.45, 0.7, \"Energy injected $E_0=%.2f$\" % (E_0), fontsize=11)\n",
    "\n",
    "plt.plot([-0.45, 0.1], [0.62, 0.62], \"k-\", lw=1)\n",
    "plt.text(-0.45, 0.4, scheme, fontsize=11)\n",
    "plt.text(-0.45, 0.3, kernel, fontsize=11)\n",
    "plt.text(\n",
    "    -0.45,\n",
    "    0.2,\n",
    "    \"$%.2f$ neighbours ($\\\\eta=%.3f$)\" % (neighbours, eta),\n",
    "    fontsize=11,\n",
    ")\n",
    "plt.xlim(-0.5, 0.5)\n",
    "plt.ylim(0, 1)\n",
    "plt.xticks([])\n",
    "plt.yticks([])\n",
    "\n",
    "plt.tight_layout()\n",
    "\n",
    "plt.show()\n",
    "#fig.savefig( \"profile_Sedov_\" + \"snap_\" + str(snapshot_number) + \".pdf\", bbox_inches='tight')\n",
    "plt.close()"
   ]
  },
  {
   "cell_type": "markdown",
   "metadata": {},
   "source": [
    "## Smoothing length histogram"
   ]
  },
  {
   "cell_type": "code",
   "execution_count": 10,
   "metadata": {},
   "outputs": [
    {
     "data": {
      "image/png": "[encoded data removed]",
      "text/plain": [
       "<Figure size 360x288 with 1 Axes>"
      ]
     },
     "metadata": {
      "needs_background": "light"
     },
     "output_type": "display_data"
    }
   ],
   "source": [
    "SmoothingLength = mesh.point_data[\"smoothingLength\"][:,0]\n",
    "\n",
    "h_bins = 50\n",
    "\n",
    "fig = plt.figure(figsize=(5, 4)) \n",
    "\n",
    "plt.hist(SmoothingLength, bins=h_bins)\n",
    "plt.semilogy()\n",
    "#plt.ylabel(\"Counts\", labelpad=0)\n",
    "plt.xlabel(\"Smoothing Length $h$\", labelpad=0)\n",
    "plt.title('Sedov Blast $h$-histogram (1D)')\n",
    "\n",
    "plt.tight_layout()\n",
    "\n",
    "plt.show()\n",
    "#fig.savefig( \"h_histogram_SedovBlast1D_\" + \"snap_\" + str(snapshot_number) + \".pdf\", bbox_inches='tight')\n",
    "plt.close()"
   ]
  },
  {
   "cell_type": "code",
   "execution_count": 13,
   "metadata": {},
   "outputs": [
    {
     "data": {
      "image/png": "[encoded data removed]",
      "text/plain": [
       "<Figure size 360x288 with 1 Axes>"
      ]
     },
     "metadata": {
      "needs_background": "light"
     },
     "output_type": "display_data"
    }
   ],
   "source": [
    "h_line = SmoothingLength[pos_mask]\n",
    "fig = plt.figure(figsize=(5, 4)) \n",
    "plt.scatter(x_line, h_line, s=10, c='r', zorder=1)\n",
    "plt.ylabel(\"Smoothing length $h$\", labelpad=0)\n",
    "plt.xlabel(\"$x$\", labelpad=0)\n",
    "plt.title('Sedov Blast $h$-profile (1D)')\n",
    "\n",
    "plt.tight_layout()\n",
    "\n",
    "plt.show()\n",
    "#fig.savefig( \"h_profile_Sedov_\" + \"snap_\" + str(snapshot_number) + \".pdf\", bbox_inches='tight')\n",
    "plt.close()"
   ]
  },
  {
   "cell_type": "code",
   "execution_count": 83,
   "metadata": {},
   "outputs": [],
   "source": [
    "delta_swift = 2.329739e-01 + 7.660489e-01"
   ]
  },
  {
   "cell_type": "code",
   "execution_count": 84,
   "metadata": {},
   "outputs": [
    {
     "data": {
      "text/plain": [
       "0.0009771999999999004"
      ]
     },
     "execution_count": 84,
     "metadata": {},
     "output_type": "execute_result"
    }
   ],
   "source": [
    "1-delta_swift"
   ]
  },
  {
   "cell_type": "code",
   "execution_count": null,
   "metadata": {},
   "outputs": [],
   "source": []
  }
 ],
 "metadata": {
  "kernelspec": {
   "display_name": "Python 3 (ipykernel)",
   "language": "python",
   "name": "python3"
  },
  "language_info": {
   "codemirror_mode": {
    "name": "ipython",
    "version": 3
   },
   "file_extension": ".py",
   "mimetype": "text/x-python",
   "name": "python",
   "nbconvert_exporter": "python",
   "pygments_lexer": "ipython3",
   "version": "3.11.0"
  }
 },
 "nbformat": 4,
 "nbformat_minor": 4
}
